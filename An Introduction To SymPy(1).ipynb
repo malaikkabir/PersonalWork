{
 "cells": [
  {
   "cell_type": "markdown",
   "id": "6acc8821",
   "metadata": {},
   "source": [
    "# An introduction to the SymPy Python Library:"
   ]
  },
  {
   "cell_type": "markdown",
   "id": "210934b7",
   "metadata": {},
   "source": [
    "## What is SymPy?"
   ]
  },
  {
   "cell_type": "markdown",
   "id": "cf00340e",
   "metadata": {},
   "source": [
    "SymPy (Short for Symbolic Python) is a library for doing symbolic mathematics using python. Symbolic mathematics libraries stand in contrast to numerical computation libraries. While the latter are concerned with explicit numeric computations (as the name suggests) such as calculating fairly accurate estimates to definite integrals, numerical answers to algebraic expressions etc. Symbolic libraries are concerned with the kind of mathematics one usually does on a piece of paper."
   ]
  },
  {
   "cell_type": "markdown",
   "id": "58569489",
   "metadata": {},
   "source": [
    "A good example to show the difference between the two paradigms is the way a surd is stored in the two:"
   ]
  },
  {
   "cell_type": "markdown",
   "id": "2d1f1ef7",
   "metadata": {},
   "source": [
    "$$\\text{Symbolic Maths: } \\quad \\sqrt{2} \\longrightarrow \\sqrt{2}^2 = 2$$"
   ]
  },
  {
   "cell_type": "markdown",
   "id": "f5f69f56",
   "metadata": {},
   "source": [
    "That is the number $\\sqrt{2}$ is defined via a rule it is \"The number which when squared gives 2\". On the contrary, the same surd in NumPy (A python library concerned with numerical computation) is stored as a decimal number with a finite number of decimal places: \n",
    "\n"
   ]
  },
  {
   "cell_type": "markdown",
   "id": "f37d0f7e",
   "metadata": {},
   "source": [
    "$$\\text{Numerical Maths: } \\quad \\sqrt{2} = 1.4142135623$$"
   ]
  },
  {
   "cell_type": "markdown",
   "id": "63028ba1",
   "metadata": {},
   "source": [
    "One could then say that symbolic math libraries have, in some sense, infinite accuracy. That does not necessarily give it an advantage. As we will see, both paradigms have their ups and downs and an ideal world is one where both are utilized in harmony to their fullest potential."
   ]
  },
  {
   "cell_type": "markdown",
   "id": "3aab3c2b",
   "metadata": {},
   "source": [
    "## Installing SymPy"
   ]
  },
  {
   "cell_type": "markdown",
   "id": "4b3eeefa",
   "metadata": {},
   "source": [
    "With pip installed you can simply go to the shell on your computer (provided it has access to the relevant directories) and run: pip install sympy. Once it is installed we import it just like we would any other library:"
   ]
  },
  {
   "cell_type": "code",
   "execution_count": 1,
   "id": "d21421db",
   "metadata": {},
   "outputs": [],
   "source": [
    "import sympy as sp"
   ]
  },
  {
   "cell_type": "markdown",
   "id": "62aa28f1",
   "metadata": {},
   "source": [
    "## First program:"
   ]
  },
  {
   "cell_type": "markdown",
   "id": "565a73bc",
   "metadata": {},
   "source": [
    "As our first foray into the world of symbolic mathematics in Python let us demonstrate precisely the example we used above to differentiate between numeric and symbolic maths. To do so, we also import numpy as np and then run some basic code which should be self-explanatory:"
   ]
  },
  {
   "cell_type": "code",
   "execution_count": 2,
   "id": "289c0a6b",
   "metadata": {},
   "outputs": [
    {
     "data": {
      "text/plain": [
       "1.4142135623730951"
      ]
     },
     "execution_count": 2,
     "metadata": {},
     "output_type": "execute_result"
    }
   ],
   "source": [
    "import numpy as np\n",
    "\n",
    "np.sqrt(2)"
   ]
  },
  {
   "cell_type": "code",
   "execution_count": 3,
   "id": "5af1695e",
   "metadata": {},
   "outputs": [
    {
     "data": {
      "text/latex": [
       "$\\displaystyle \\sqrt{2}$"
      ],
      "text/plain": [
       "sqrt(2)"
      ]
     },
     "execution_count": 3,
     "metadata": {},
     "output_type": "execute_result"
    }
   ],
   "source": [
    "sp.sqrt(2)"
   ]
  },
  {
   "cell_type": "markdown",
   "id": "e9a23954",
   "metadata": {},
   "source": [
    "Notice how numpy prints the square root of 2 as a decimal expansion just as we predicted whereas sympy prints it out exactly in the form of a symbolic surd. Lets see what squaring either of them does:"
   ]
  },
  {
   "cell_type": "code",
   "execution_count": 4,
   "id": "608b67fa",
   "metadata": {},
   "outputs": [
    {
     "name": "stdout",
     "output_type": "stream",
     "text": [
      "Numpy's answer: 2.0000000000000004\n",
      "Sympy's answer: 2\n"
     ]
    }
   ],
   "source": [
    "print(\"Numpy's answer: \" + str(np.sqrt(2)**2))\n",
    "print(\"Sympy's answer: \" + str(sp.sqrt(2)**2))"
   ]
  },
  {
   "cell_type": "markdown",
   "id": "f7257d55",
   "metadata": {},
   "source": [
    "Evidently since Numpy stores the surd as a decimal expansion, the squaring does not result in one (afterall the actual surd is an irrational number and requires an infinite number of decimal places to be stored precisely). On the other hand, since Sympy defines the square root of 2 according to the rule we mentioned above, the squaring gives us the precise answer."
   ]
  },
  {
   "cell_type": "markdown",
   "id": "674dd35a",
   "metadata": {},
   "source": [
    "## Symbols in SymPy:"
   ]
  },
  {
   "cell_type": "markdown",
   "id": "863b9506",
   "metadata": {},
   "source": [
    "Here we introduce perhaps the most essential feature of symbolic mathematics: Symbols! A symbol is very much like any other object in python, it can be defined as follows:"
   ]
  },
  {
   "cell_type": "code",
   "execution_count": 5,
   "id": "23060909",
   "metadata": {
    "scrolled": true
   },
   "outputs": [
    {
     "data": {
      "text/latex": [
       "$\\displaystyle x$"
      ],
      "text/plain": [
       "x"
      ]
     },
     "execution_count": 5,
     "metadata": {},
     "output_type": "execute_result"
    }
   ],
   "source": [
    "x = sp.Symbol(\"x\")\n",
    "x"
   ]
  },
  {
   "cell_type": "markdown",
   "id": "16a75e76",
   "metadata": {},
   "source": [
    "In the code above we have declared a symbol \"object\" (just like any other variable) called x. One the right hand side we associate with this object the symbol itself namely \"x\". The difference is the following, the name on the left is what you will refer to whenever you want to access the object through python, on the other hand the name on the right is what the \"symbol\" associated with said python object is. To familiarize you with these notions I have provided a few examples below:"
   ]
  },
  {
   "cell_type": "code",
   "execution_count": 6,
   "id": "45fa0750",
   "metadata": {},
   "outputs": [
    {
     "data": {
      "text/latex": [
       "$\\displaystyle y$"
      ],
      "text/plain": [
       "y"
      ]
     },
     "execution_count": 6,
     "metadata": {},
     "output_type": "execute_result"
    }
   ],
   "source": [
    "name = sp.Symbol(\"y\")\n",
    "name"
   ]
  },
  {
   "cell_type": "code",
   "execution_count": 7,
   "id": "7befbf48",
   "metadata": {},
   "outputs": [
    {
     "data": {
      "text/latex": [
       "$\\displaystyle name$"
      ],
      "text/plain": [
       "name"
      ]
     },
     "execution_count": 7,
     "metadata": {},
     "output_type": "execute_result"
    }
   ],
   "source": [
    "y = sp.Symbol(\"name\")\n",
    "y"
   ]
  },
  {
   "cell_type": "markdown",
   "id": "d545dfcf",
   "metadata": {},
   "source": [
    "### How SymPy deals with symbols:"
   ]
  },
  {
   "cell_type": "markdown",
   "id": "23e67fe0",
   "metadata": {},
   "source": [
    "SymPy deals with a symbol in much the same way as one would one paper. Given a polynomial in a symbol, SymPy will simplify the expression. Here is an example:"
   ]
  },
  {
   "cell_type": "code",
   "execution_count": 8,
   "id": "ad8ea88f",
   "metadata": {},
   "outputs": [
    {
     "data": {
      "text/latex": [
       "$\\displaystyle 3 x^{2} + 9 x + 2$"
      ],
      "text/plain": [
       "3*x**2 + 9*x + 2"
      ]
     },
     "execution_count": 8,
     "metadata": {},
     "output_type": "execute_result"
    }
   ],
   "source": [
    "x**2 + 2*x**2 + 4*x + 5*x + 2"
   ]
  },
  {
   "cell_type": "markdown",
   "id": "fbbb210b",
   "metadata": {},
   "source": [
    "Sympy also simplifies fractions, for instance:"
   ]
  },
  {
   "cell_type": "code",
   "execution_count": 9,
   "id": "494e9271",
   "metadata": {},
   "outputs": [
    {
     "data": {
      "text/latex": [
       "$\\displaystyle \\frac{x^{2}}{3}$"
      ],
      "text/plain": [
       "x**2/3"
      ]
     },
     "execution_count": 9,
     "metadata": {},
     "output_type": "execute_result"
    }
   ],
   "source": [
    "2*x**2/6"
   ]
  },
  {
   "cell_type": "markdown",
   "id": "a3ee693f",
   "metadata": {},
   "source": [
    "However, one should note that not all expressions are automatically algebraically simplified by SymPy. Here's an example:"
   ]
  },
  {
   "cell_type": "code",
   "execution_count": 10,
   "id": "475bff3f",
   "metadata": {},
   "outputs": [
    {
     "data": {
      "text/latex": [
       "$\\displaystyle \\sin^{2}{\\left(x \\right)} + \\cos^{2}{\\left(x \\right)}$"
      ],
      "text/plain": [
       "sin(x)**2 + cos(x)**2"
      ]
     },
     "execution_count": 10,
     "metadata": {},
     "output_type": "execute_result"
    }
   ],
   "source": [
    "sp.cos(x)**2 + sp.sin(x)**2"
   ]
  },
  {
   "cell_type": "markdown",
   "id": "a48894f2",
   "metadata": {},
   "source": [
    "Notice how the expression above could have been simplified to 1 but SymPy did not do so. The general rule of thumb is that addition, subtraction, multiplication and addition are _usually_ simplified by SymPy. The qualifier _usually_ is important here, since the example below is that of an expression that could have been simplified by multiplication but isn't:"
   ]
  },
  {
   "cell_type": "code",
   "execution_count": 11,
   "id": "637fa511",
   "metadata": {},
   "outputs": [
    {
     "data": {
      "text/latex": [
       "$\\displaystyle x \\left(x + 2\\right)$"
      ],
      "text/plain": [
       "x*(x + 2)"
      ]
     },
     "execution_count": 11,
     "metadata": {},
     "output_type": "execute_result"
    }
   ],
   "source": [
    "x*(x+2)"
   ]
  },
  {
   "cell_type": "markdown",
   "id": "26f9d5bb",
   "metadata": {},
   "source": [
    "The reason why NumPy doesn't do the aforementioned simplifications _outright_ is because one might encounter situations where the form of the expression might be more insightfiul without the added simplification. Indeed, one can _force_ SymPy to simplify an expression further."
   ]
  },
  {
   "cell_type": "markdown",
   "id": "43a64c8d",
   "metadata": {},
   "source": [
    "## Forcing simplifications:"
   ]
  },
  {
   "cell_type": "markdown",
   "id": "b3d921b7",
   "metadata": {},
   "source": [
    "To force SymPy to simplify our expression written above we first assign it a name:\n"
   ]
  },
  {
   "cell_type": "code",
   "execution_count": 12,
   "id": "09c20584",
   "metadata": {},
   "outputs": [
    {
     "data": {
      "text/latex": [
       "$\\displaystyle x \\left(x + 2\\right)$"
      ],
      "text/plain": [
       "x*(x + 2)"
      ]
     },
     "execution_count": 12,
     "metadata": {},
     "output_type": "execute_result"
    }
   ],
   "source": [
    "expr = x*(x+2)\n",
    "expr"
   ]
  },
  {
   "cell_type": "markdown",
   "id": "410fe4a3",
   "metadata": {},
   "source": [
    "The expression is exactly the same as before. Nothing _should_ have changed either, afterall all we did was give our little expression a name. But now we can use what is called the expand() method:"
   ]
  },
  {
   "cell_type": "code",
   "execution_count": 13,
   "id": "371f7a07",
   "metadata": {},
   "outputs": [
    {
     "data": {
      "text/latex": [
       "$\\displaystyle x^{2} + 2 x$"
      ],
      "text/plain": [
       "x**2 + 2*x"
      ]
     },
     "execution_count": 13,
     "metadata": {},
     "output_type": "execute_result"
    }
   ],
   "source": [
    "expr.expand()"
   ]
  },
  {
   "cell_type": "markdown",
   "id": "e5df4061",
   "metadata": {},
   "source": [
    "YIPPE! Our expression has been simplified! Notice that expand does not modify our original expression, it is just a method that returns what the expression _would_ look like expanded. That is if we go back and print expr we get:"
   ]
  },
  {
   "cell_type": "code",
   "execution_count": 14,
   "id": "9a25da16",
   "metadata": {},
   "outputs": [
    {
     "data": {
      "text/latex": [
       "$\\displaystyle x \\left(x + 2\\right)$"
      ],
      "text/plain": [
       "x*(x + 2)"
      ]
     },
     "execution_count": 14,
     "metadata": {},
     "output_type": "execute_result"
    }
   ],
   "source": [
    "expr"
   ]
  },
  {
   "cell_type": "markdown",
   "id": "21774303",
   "metadata": {},
   "source": [
    "The same expression back. You also have the choice of using expand as a function instead of a method as follows:"
   ]
  },
  {
   "cell_type": "code",
   "execution_count": 15,
   "id": "1194e1d3",
   "metadata": {},
   "outputs": [
    {
     "data": {
      "text/latex": [
       "$\\displaystyle x^{2} + 2 x$"
      ],
      "text/plain": [
       "x**2 + 2*x"
      ]
     },
     "execution_count": 15,
     "metadata": {},
     "output_type": "execute_result"
    }
   ],
   "source": [
    "sp.expand(expr)"
   ]
  },
  {
   "cell_type": "markdown",
   "id": "fbefd4c1",
   "metadata": {},
   "source": [
    "This should also not modify your original expression."
   ]
  },
  {
   "cell_type": "markdown",
   "id": "c4e9db34",
   "metadata": {},
   "source": [
    "## Defining multiple symbols at the same time using tuples:"
   ]
  },
  {
   "cell_type": "markdown",
   "id": "409130d1",
   "metadata": {},
   "source": [
    "sympy.symbols(\"a b c ...\") is a function that generates a tuple of symbol names. One can assign these symbol names to the appropriate amount of symbols using the usual Python \"unpacking\" syntax as follows:"
   ]
  },
  {
   "cell_type": "code",
   "execution_count": 16,
   "id": "0ae8fcad",
   "metadata": {},
   "outputs": [],
   "source": [
    "s,t,u = sp.symbols(\"s t u\")"
   ]
  },
  {
   "cell_type": "markdown",
   "id": "bef9fd0d",
   "metadata": {},
   "source": [
    "The above line of code defines three variables s,t,u with symbols \"s\", \"t\" and \"u\" respectively. Next we can expand a polynomial in these just as before:"
   ]
  },
  {
   "cell_type": "code",
   "execution_count": 17,
   "id": "a8e21d95",
   "metadata": {},
   "outputs": [
    {
     "data": {
      "text/latex": [
       "$\\displaystyle 5 s t^{3} + s t^{2} u^{2} + 5 s t u + s u^{3}$"
      ],
      "text/plain": [
       "5*s*t**3 + s*t**2*u**2 + 5*s*t*u + s*u**3"
      ]
     },
     "execution_count": 17,
     "metadata": {},
     "output_type": "execute_result"
    }
   ],
   "source": [
    "poly = s*(t**2 + u)*(u**2 + 5*t)\n",
    "poly.expand()"
   ]
  },
  {
   "cell_type": "markdown",
   "id": "ae89a9ab",
   "metadata": {},
   "source": [
    "## Factoring polynomials:"
   ]
  },
  {
   "cell_type": "markdown",
   "id": "a74ef3cd",
   "metadata": {},
   "source": [
    "One can indeed also go in the opposite direction and actually _factor_ polynomials neatly using the factor() method. Here is an example:"
   ]
  },
  {
   "cell_type": "code",
   "execution_count": 18,
   "id": "6ff47f2d",
   "metadata": {},
   "outputs": [
    {
     "data": {
      "text/latex": [
       "$\\displaystyle x^{2} + 2 x + 1$"
      ],
      "text/plain": [
       "x**2 + 2*x + 1"
      ]
     },
     "execution_count": 18,
     "metadata": {},
     "output_type": "execute_result"
    }
   ],
   "source": [
    "expr = x**2 + 2*x+ 1\n",
    "expr"
   ]
  },
  {
   "cell_type": "code",
   "execution_count": 19,
   "id": "7e93b000",
   "metadata": {},
   "outputs": [
    {
     "data": {
      "text/latex": [
       "$\\displaystyle \\left(x + 1\\right)^{2}$"
      ],
      "text/plain": [
       "(x + 1)**2"
      ]
     },
     "execution_count": 19,
     "metadata": {},
     "output_type": "execute_result"
    }
   ],
   "source": [
    "expr.factor()"
   ]
  },
  {
   "cell_type": "markdown",
   "id": "b3d6142c",
   "metadata": {},
   "source": [
    "Note also that since there does not exist an explicit algorithm for finding roots of fith or higher degree polynomials, SymPy suffers from the same failing. Below I give an example of an even quicker method of generating different symbols:"
   ]
  },
  {
   "cell_type": "code",
   "execution_count": 20,
   "id": "9fa7e182",
   "metadata": {},
   "outputs": [
    {
     "data": {
      "text/plain": [
       "(x0, x1, x2)"
      ]
     },
     "execution_count": 20,
     "metadata": {},
     "output_type": "execute_result"
    }
   ],
   "source": [
    "x_v = sp.symbols(\"x0:3\")\n",
    "x_v"
   ]
  },
  {
   "cell_type": "markdown",
   "id": "7be08ab2",
   "metadata": {},
   "source": [
    "The syntax \"xn:m\" is very similar to the slicing syntax from Python. It generates a list of symbols (xn, xn+1, ... ,xm). We can now manipulate this symbol tuple in the usual way."
   ]
  },
  {
   "cell_type": "code",
   "execution_count": 21,
   "id": "ecc57ec6",
   "metadata": {},
   "outputs": [
    {
     "data": {
      "text/latex": [
       "$\\displaystyle x_{0}^{2} x_{1} x_{2} + x_{0} x_{1} x_{2}$"
      ],
      "text/plain": [
       "x0**2*x1*x2 + x0*x1*x2"
      ]
     },
     "execution_count": 21,
     "metadata": {},
     "output_type": "execute_result"
    }
   ],
   "source": [
    "expanded = x_v[0]**2 * x_v[1] * x_v[2] + x_v[0] * x_v[1] * x_v[2]\n",
    "expanded"
   ]
  },
  {
   "cell_type": "code",
   "execution_count": 22,
   "id": "e6e341c0",
   "metadata": {},
   "outputs": [
    {
     "data": {
      "text/latex": [
       "$\\displaystyle x_{0} x_{1} x_{2} \\left(x_{0} + 1\\right)$"
      ],
      "text/plain": [
       "x0*x1*x2*(x0 + 1)"
      ]
     },
     "execution_count": 22,
     "metadata": {},
     "output_type": "execute_result"
    }
   ],
   "source": [
    "expanded.factor()"
   ]
  },
  {
   "cell_type": "markdown",
   "id": "695c88ba",
   "metadata": {},
   "source": [
    "## SymPy Data Types:"
   ]
  },
  {
   "cell_type": "markdown",
   "id": "074de2b7",
   "metadata": {},
   "source": [
    "Sympy has certain built in data types for storing symbolic versions of commonly encountered number types. To understand why one might even need these data types in the first place we consider the following scenario. Suppose we are raising a symbol we have declared to a rational power. The rational (pun intended), most straightfoward route to take would be:"
   ]
  },
  {
   "cell_type": "code",
   "execution_count": 23,
   "id": "0df1a544",
   "metadata": {},
   "outputs": [
    {
     "data": {
      "text/latex": [
       "$\\displaystyle x^{0.333333333333333}$"
      ],
      "text/plain": [
       "x**0.333333333333333"
      ]
     },
     "execution_count": 23,
     "metadata": {},
     "output_type": "execute_result"
    }
   ],
   "source": [
    "x = sp.Symbol(\"x\")\n",
    "expr = x**(1/3)\n",
    "expr"
   ]
  },
  {
   "cell_type": "markdown",
   "id": "6c81960b",
   "metadata": {},
   "source": [
    "Do you notice the problem? Instead of storing the exponent as an \"actual\" rational number (that is the pure rational number $\\frac{1}{3}$ with an infinite number of decimal places), it stores it as a murky, impure decimal approximation of $\\frac{1}{3}$. The problem in fact starts compouning once you try raising the present expression to some other rational power:"
   ]
  },
  {
   "cell_type": "code",
   "execution_count": 24,
   "id": "0713a64b",
   "metadata": {},
   "outputs": [
    {
     "data": {
      "text/latex": [
       "$\\displaystyle x^{0.0555555555555556}$"
      ],
      "text/plain": [
       "x**0.0555555555555556"
      ]
     },
     "execution_count": 24,
     "metadata": {},
     "output_type": "execute_result"
    }
   ],
   "source": [
    "expr**(1/6)"
   ]
  },
  {
   "cell_type": "markdown",
   "id": "d87108dd",
   "metadata": {},
   "source": [
    "The 6 at the end is an eyesore. This is an approximation, \"not\" the actual number and stands in opposition to the very essence of what symbolic math is all about. This is where the Sympy.Rational data type comes in. This data type captures the _essence_ of the rational number. It captures not just an approximation of what the rational number evaluates to, but the rational number _itself_."
   ]
  },
  {
   "cell_type": "code",
   "execution_count": 25,
   "id": "7678f38e",
   "metadata": {},
   "outputs": [
    {
     "data": {
      "text/latex": [
       "$\\displaystyle \\sqrt[3]{x}$"
      ],
      "text/plain": [
       "x**(1/3)"
      ]
     },
     "execution_count": 25,
     "metadata": {},
     "output_type": "execute_result"
    }
   ],
   "source": [
    "expr = x**(sp.Rational(1,3))\n",
    "expr"
   ]
  },
  {
   "cell_type": "markdown",
   "id": "3e97090a",
   "metadata": {},
   "source": [
    "Which is exactly what we wanted. Infact, if we were now to raise this rational expression to yet another rational power as before:"
   ]
  },
  {
   "cell_type": "code",
   "execution_count": 26,
   "id": "4975a30d",
   "metadata": {},
   "outputs": [
    {
     "data": {
      "text/latex": [
       "$\\displaystyle \\sqrt[18]{x}$"
      ],
      "text/plain": [
       "x**(1/18)"
      ]
     },
     "execution_count": 26,
     "metadata": {},
     "output_type": "execute_result"
    }
   ],
   "source": [
    "expr**(sp.Rational(1,6))"
   ]
  },
  {
   "cell_type": "markdown",
   "id": "5a1c0b17",
   "metadata": {},
   "source": [
    "We get exactly what we expect, $x^{1/18}.$ Perfect!"
   ]
  },
  {
   "cell_type": "markdown",
   "id": "e9094727",
   "metadata": {},
   "source": [
    "The route we just took is not the only one we could have taken, however. SymPy also supports a Sympy.Integer() data type, which we could have used to construct the rationa expression in the exponent. That is, we could have equivalently written:"
   ]
  },
  {
   "cell_type": "code",
   "execution_count": 27,
   "id": "69ab0ffa",
   "metadata": {},
   "outputs": [
    {
     "data": {
      "text/latex": [
       "$\\displaystyle \\sqrt[3]{x}$"
      ],
      "text/plain": [
       "x**(1/3)"
      ]
     },
     "execution_count": 27,
     "metadata": {},
     "output_type": "execute_result"
    }
   ],
   "source": [
    "expr = x**(sp.Integer(1)/sp.Integer(3))\n",
    "expr"
   ]
  },
  {
   "cell_type": "markdown",
   "id": "e51f161b",
   "metadata": {},
   "source": [
    "Which does the same thing the Rational data type did in this case but with extra steps. Yet one can imagine encountering situations where only an integer might be needed. The above syntax can be simplified by exploiting the fact that an operation carried out between a SymPy integer and a python integer results in a SymPy data type."
   ]
  },
  {
   "cell_type": "code",
   "execution_count": 28,
   "id": "71583f25",
   "metadata": {},
   "outputs": [
    {
     "data": {
      "text/latex": [
       "$\\displaystyle \\sqrt[3]{x}$"
      ],
      "text/plain": [
       "x**(1/3)"
      ]
     },
     "execution_count": 28,
     "metadata": {},
     "output_type": "execute_result"
    }
   ],
   "source": [
    "expr = x**(sp.Integer(1)/3)\n",
    "expr"
   ]
  },
  {
   "cell_type": "markdown",
   "id": "aa080746",
   "metadata": {},
   "source": [
    "Below is a cell that explicitly shows what has been discussed above."
   ]
  },
  {
   "cell_type": "code",
   "execution_count": 29,
   "id": "3443f8fa",
   "metadata": {
    "scrolled": true
   },
   "outputs": [
    {
     "name": "stdout",
     "output_type": "stream",
     "text": [
      "<class 'int'>\n",
      "<class 'sympy.core.numbers.One'>\n",
      "<class 'sympy.core.numbers.Rational'>\n"
     ]
    }
   ],
   "source": [
    "print(type(3))\n",
    "print(type(sp.Integer(1)))\n",
    "print(type(sp.Integer(1)/3))"
   ]
  },
  {
   "cell_type": "markdown",
   "id": "53b506be",
   "metadata": {},
   "source": [
    "## Some commonly encountered constants:"
   ]
  },
  {
   "cell_type": "code",
   "execution_count": 30,
   "id": "39508d70",
   "metadata": {},
   "outputs": [
    {
     "data": {
      "text/latex": [
       "$\\displaystyle \\pi$"
      ],
      "text/plain": [
       "pi"
      ]
     },
     "execution_count": 30,
     "metadata": {},
     "output_type": "execute_result"
    }
   ],
   "source": [
    "sp.pi ##Pretty Self-explanatory"
   ]
  },
  {
   "cell_type": "code",
   "execution_count": 31,
   "id": "83c7ea4c",
   "metadata": {},
   "outputs": [
    {
     "data": {
      "text/latex": [
       "$\\displaystyle e$"
      ],
      "text/plain": [
       "E"
      ]
     },
     "execution_count": 31,
     "metadata": {},
     "output_type": "execute_result"
    }
   ],
   "source": [
    "sp.E ##Euler's number"
   ]
  },
  {
   "cell_type": "code",
   "execution_count": 32,
   "id": "4f9bc776",
   "metadata": {},
   "outputs": [
    {
     "data": {
      "text/latex": [
       "$\\displaystyle i$"
      ],
      "text/plain": [
       "I"
      ]
     },
     "execution_count": 32,
     "metadata": {},
     "output_type": "execute_result"
    }
   ],
   "source": [
    "sp.I ##The imaginary unit \"iota\""
   ]
  },
  {
   "cell_type": "markdown",
   "id": "aea800a4",
   "metadata": {},
   "source": [
    "In fact, complex numbers and certain identites (such as euler's identity) are pre-built into SymPy. Here are examples showcasing that:"
   ]
  },
  {
   "cell_type": "code",
   "execution_count": 33,
   "id": "ebfdf5a5",
   "metadata": {},
   "outputs": [
    {
     "data": {
      "text/latex": [
       "$\\displaystyle -1$"
      ],
      "text/plain": [
       "-1"
      ]
     },
     "execution_count": 33,
     "metadata": {},
     "output_type": "execute_result"
    }
   ],
   "source": [
    "sp.I**2 ##Definition of iota"
   ]
  },
  {
   "cell_type": "code",
   "execution_count": 34,
   "id": "ad51e14c",
   "metadata": {},
   "outputs": [
    {
     "data": {
      "text/latex": [
       "$\\displaystyle -1$"
      ],
      "text/plain": [
       "-1"
      ]
     },
     "execution_count": 34,
     "metadata": {},
     "output_type": "execute_result"
    }
   ],
   "source": [
    "sp.E**(sp.pi*sp.I) ##Euler's Identity"
   ]
  },
  {
   "cell_type": "markdown",
   "id": "720e855d",
   "metadata": {},
   "source": [
    "SymPy even hosts \"infinity\", though calculations ofcourse can get tricky when dealing with two infinite quantities. Here is an example:"
   ]
  },
  {
   "cell_type": "code",
   "execution_count": 35,
   "id": "3c11f1a8",
   "metadata": {},
   "outputs": [
    {
     "data": {
      "text/latex": [
       "$\\displaystyle \\infty$"
      ],
      "text/plain": [
       "oo"
      ]
     },
     "execution_count": 35,
     "metadata": {},
     "output_type": "execute_result"
    }
   ],
   "source": [
    "sp.oo"
   ]
  },
  {
   "cell_type": "code",
   "execution_count": 36,
   "id": "803ed70e",
   "metadata": {
    "scrolled": true
   },
   "outputs": [
    {
     "data": {
      "text/latex": [
       "$\\displaystyle \\text{NaN}$"
      ],
      "text/plain": [
       "nan"
      ]
     },
     "execution_count": 36,
     "metadata": {},
     "output_type": "execute_result"
    }
   ],
   "source": [
    "sp.oo - sp.oo"
   ]
  },
  {
   "cell_type": "code",
   "execution_count": 37,
   "id": "8af1b4d9",
   "metadata": {
    "scrolled": true
   },
   "outputs": [
    {
     "data": {
      "text/latex": [
       "$\\displaystyle \\infty$"
      ],
      "text/plain": [
       "oo"
      ]
     },
     "execution_count": 37,
     "metadata": {},
     "output_type": "execute_result"
    }
   ],
   "source": [
    "sp.oo + 1"
   ]
  },
  {
   "cell_type": "markdown",
   "id": "6c862b2a",
   "metadata": {},
   "source": [
    "Infinity will later turn out to be important when defining limits of quantities approaching infinity etc. Certain common functions (all of the trigonometric functions, logarithm etc.) are built into SymPy. You can look into the documentation to see which functions SymPy supports. The logarithm is defined with base $e$ in the usual way such that the exponential of the logarithm of a number is just that number:"
   ]
  },
  {
   "cell_type": "code",
   "execution_count": 38,
   "id": "80f4b789",
   "metadata": {},
   "outputs": [
    {
     "data": {
      "text/latex": [
       "$\\displaystyle x$"
      ],
      "text/plain": [
       "x"
      ]
     },
     "execution_count": 38,
     "metadata": {},
     "output_type": "execute_result"
    }
   ],
   "source": [
    "sp.exp(sp.log(x))"
   ]
  },
  {
   "cell_type": "markdown",
   "id": "a1a89ac4",
   "metadata": {},
   "source": [
    "You must realize now that we can construct very complicated symbolic expressions from the tools already at our disposal. Here is an example:"
   ]
  },
  {
   "cell_type": "code",
   "execution_count": 42,
   "id": "69deb728",
   "metadata": {},
   "outputs": [
    {
     "data": {
      "text/latex": [
       "$\\displaystyle x^{4} + e^{i \\sqrt{\\tanh{\\left(x \\right)}}} + \\log{\\left(x \\cos{\\left(x \\right)} + \\sqrt{2} x \\right)}$"
      ],
      "text/plain": [
       "x**4 + exp(I*sqrt(tanh(x))) + log(x*cos(x) + sqrt(2)*x)"
      ]
     },
     "execution_count": 42,
     "metadata": {},
     "output_type": "execute_result"
    }
   ],
   "source": [
    "expr = sp.log(x*sp.sqrt(2) + x*sp.cos(x)) + sp.exp(sp.I*sp.sqrt(sp.tanh(x))) + x**4\n",
    "expr"
   ]
  },
  {
   "cell_type": "markdown",
   "id": "59dcc28c",
   "metadata": {},
   "source": [
    "## Defining and solving equations:"
   ]
  },
  {
   "cell_type": "markdown",
   "id": "df911678",
   "metadata": {},
   "source": [
    "Here comes the first big thing on our agenda. We will finally define an equation and solve it using SymPy. The natural question to ask is: \"How does one define an equation in symbolic terms?\". The two straightforward answers ofcourse are bound to not work. The \"=\" sign is reserved for variable assignment in Python. On the other hand \"==\" stands for a Boolean comparison. What we instead need to do is use the equality data type from SymPy. To define an equation we use the equation class constructor as follows:"
   ]
  },
  {
   "cell_type": "code",
   "execution_count": 49,
   "id": "1937cc9f",
   "metadata": {},
   "outputs": [
    {
     "data": {
      "text/latex": [
       "$\\displaystyle x^{2} = 6$"
      ],
      "text/plain": [
       "Eq(x**2, 6)"
      ]
     },
     "execution_count": 49,
     "metadata": {},
     "output_type": "execute_result"
    }
   ],
   "source": [
    "eq = sp.Eq(x**2,6) ##Note that the object x is a SymPy symbol that has already been defined\n",
    "eq"
   ]
  },
  {
   "cell_type": "markdown",
   "id": "8932c039",
   "metadata": {},
   "source": [
    "In fact we can check that the type of the object \"eq\" is infact as Sympy equality:"
   ]
  },
  {
   "cell_type": "code",
   "execution_count": 51,
   "id": "3f669593",
   "metadata": {},
   "outputs": [
    {
     "data": {
      "text/plain": [
       "sympy.core.relational.Equality"
      ]
     },
     "execution_count": 51,
     "metadata": {},
     "output_type": "execute_result"
    }
   ],
   "source": [
    "type(eq)"
   ]
  },
  {
   "cell_type": "markdown",
   "id": "ff174f17",
   "metadata": {},
   "source": [
    "Great. We've defined out first equation. How do we actually go about solving it? Afterall, that is what a computer algebra pacakge is for, making symbolic manipulations easier for us. A straightforward way of solving the equation we have just defined is by using the SymPy \"solveset\" function:"
   ]
  },
  {
   "cell_type": "code",
   "execution_count": 54,
   "id": "d568d499",
   "metadata": {},
   "outputs": [
    {
     "data": {
      "text/latex": [
       "$\\displaystyle \\left\\{- \\sqrt{6}, \\sqrt{6}\\right\\}$"
      ],
      "text/plain": [
       "{-sqrt(6), sqrt(6)}"
      ]
     },
     "execution_count": 54,
     "metadata": {},
     "output_type": "execute_result"
    }
   ],
   "source": [
    "soln = sp.solveset(eq)\n",
    "soln"
   ]
  },
  {
   "cell_type": "markdown",
   "id": "9508bb94",
   "metadata": {},
   "source": [
    "Since the solution to a polynomial equation is always a set, the answer will in fact be of the SymPy type \"set\", as can be seen explicitly below:"
   ]
  },
  {
   "cell_type": "code",
   "execution_count": 55,
   "id": "1a194b21",
   "metadata": {},
   "outputs": [
    {
     "data": {
      "text/plain": [
       "sympy.sets.sets.FiniteSet"
      ]
     },
     "execution_count": 55,
     "metadata": {},
     "output_type": "execute_result"
    }
   ],
   "source": [
    "type(soln)"
   ]
  },
  {
   "cell_type": "markdown",
   "id": "25d634fa",
   "metadata": {},
   "source": [
    "Ofcourse it was straightforward to see that there is only one variable that can be solved for in the equation we defined above. Situations might arise where there are unknown constants or other variables in the equation and we only want to solve for one of the variables. This can be done by explicitly passing the variable you want to solve for as an argument into the solveset function. Here's an example:"
   ]
  },
  {
   "cell_type": "code",
   "execution_count": 59,
   "id": "c0219533",
   "metadata": {},
   "outputs": [
    {
     "data": {
      "text/latex": [
       "$\\displaystyle c + x^{2} = 5$"
      ],
      "text/plain": [
       "Eq(c + x**2, 5)"
      ]
     },
     "execution_count": 59,
     "metadata": {},
     "output_type": "execute_result"
    }
   ],
   "source": [
    "c = sp.Symbol(\"c\")\n",
    "eq2 = sp.Eq(x**2 + c , 5)\n",
    "eq2"
   ]
  },
  {
   "cell_type": "markdown",
   "id": "db79c215",
   "metadata": {},
   "source": [
    "If we now only want to solve for x in the equation the cell below should return an error because the function is unaware of which variable to solve for:"
   ]
  },
  {
   "cell_type": "code",
   "execution_count": null,
   "id": "e8735a43",
   "metadata": {},
   "outputs": [],
   "source": [
    "soln2 = sp.solveset(eq2) "
   ]
  },
  {
   "cell_type": "markdown",
   "id": "988b420b",
   "metadata": {},
   "source": [
    "In order to tell the function that we want it to solve the equation for the variable x we use the following syntax:"
   ]
  },
  {
   "cell_type": "code",
   "execution_count": 64,
   "id": "14fcaddd",
   "metadata": {},
   "outputs": [
    {
     "data": {
      "text/latex": [
       "$\\displaystyle \\left\\{- \\sqrt{5 - c}, \\sqrt{5 - c}\\right\\}$"
      ],
      "text/plain": [
       "{-sqrt(5 - c), sqrt(5 - c)}"
      ]
     },
     "execution_count": 64,
     "metadata": {},
     "output_type": "execute_result"
    }
   ],
   "source": [
    "soln2 = sp.solveset(eq2,x) \n",
    "soln2"
   ]
  },
  {
   "cell_type": "markdown",
   "id": "e07acf2a",
   "metadata": {},
   "source": [
    "It is usually good practice to pass the variable you want to solve for as an argument regardless of whether there are multiple variables in an equation or not.\n",
    "\n",
    "Now since what we get from the solveset function is a set, we can convert it into a list and then access the individual elements just like we would from a normal list, heres an example:"
   ]
  },
  {
   "cell_type": "code",
   "execution_count": 67,
   "id": "c9950642",
   "metadata": {},
   "outputs": [
    {
     "data": {
      "text/latex": [
       "$\\displaystyle \\sqrt{6}$"
      ],
      "text/plain": [
       "sqrt(6)"
      ]
     },
     "execution_count": 67,
     "metadata": {},
     "output_type": "execute_result"
    }
   ],
   "source": [
    "sollist = list(soln)\n",
    "sollist[0]"
   ]
  },
  {
   "cell_type": "markdown",
   "id": "7b2d0c3e",
   "metadata": {},
   "source": [
    "## Short aside - an easier way to rephrase the same question:"
   ]
  },
  {
   "cell_type": "markdown",
   "id": "720372a8",
   "metadata": {},
   "source": [
    "If we want to solve for the \"zeros\" of a function, we can simply pass \"the function\" (instead of an equation) into the solveset function. It is then immediately interpreted by the function as a \"root finding problem\". What I mean by that in this context is that the above equation:"
   ]
  },
  {
   "cell_type": "markdown",
   "id": "d9de3fd3",
   "metadata": {},
   "source": [
    "$$x^2 = 6$$"
   ]
  },
  {
   "cell_type": "markdown",
   "id": "f00355a1",
   "metadata": {},
   "source": [
    "Can in fact be rearranged into an equivalent problem of finding the roots of the function $x^2 - 6$. That is:"
   ]
  },
  {
   "cell_type": "markdown",
   "id": "220c5aec",
   "metadata": {},
   "source": [
    "$$x^2 - 6 = 0$$"
   ]
  },
  {
   "cell_type": "markdown",
   "id": "38c8ef6f",
   "metadata": {},
   "source": [
    "Then we can immediately plug this problem into the solveset function using the following syntax:"
   ]
  },
  {
   "cell_type": "code",
   "execution_count": 75,
   "id": "7ec86bba",
   "metadata": {},
   "outputs": [
    {
     "data": {
      "text/latex": [
       "$\\displaystyle \\left\\{- \\sqrt{6}, \\sqrt{6}\\right\\}$"
      ],
      "text/plain": [
       "{-sqrt(6), sqrt(6)}"
      ]
     },
     "execution_count": 75,
     "metadata": {},
     "output_type": "execute_result"
    }
   ],
   "source": [
    "sp.solveset(x**2 - 6,x)"
   ]
  },
  {
   "cell_type": "markdown",
   "id": "ccd05914",
   "metadata": {},
   "source": [
    "Which is simpler in that it saves us the hassle of defining an equation prior to solving it."
   ]
  },
  {
   "cell_type": "markdown",
   "id": "6d1f2804",
   "metadata": {},
   "source": [
    "## Another example:"
   ]
  },
  {
   "cell_type": "markdown",
   "id": "b56a54c8",
   "metadata": {},
   "source": [
    "Recall that in the previous example, checking the type of the solution set showed us that it was of the class \"FiniteSet\". Let us look at another example where the solution is now an infinite set. We use the trigonometric equation:"
   ]
  },
  {
   "cell_type": "markdown",
   "id": "08bb4e43",
   "metadata": {},
   "source": [
    "$$\\text{cos(x)} - \\text{sin(x)} = 0$$"
   ]
  },
  {
   "cell_type": "markdown",
   "id": "0d4d5afb",
   "metadata": {},
   "source": [
    "as our example."
   ]
  },
  {
   "cell_type": "code",
   "execution_count": 78,
   "id": "f5828bcc",
   "metadata": {},
   "outputs": [],
   "source": [
    "infsoln = sp.solveset(sp.cos(x)-sp.sin(x))"
   ]
  },
  {
   "cell_type": "markdown",
   "id": "718cae79",
   "metadata": {},
   "source": [
    "Evidently the solution set is the union of two infinite sets and thus an infinite set itself. Let us check this explicitly by using Python's type function again:"
   ]
  },
  {
   "cell_type": "code",
   "execution_count": 79,
   "id": "1faac906",
   "metadata": {},
   "outputs": [
    {
     "data": {
      "text/plain": [
       "sympy.sets.sets.Union"
      ]
     },
     "execution_count": 79,
     "metadata": {},
     "output_type": "execute_result"
    }
   ],
   "source": [
    "type(infsoln)"
   ]
  },
  {
   "cell_type": "markdown",
   "id": "01ff70e1",
   "metadata": {},
   "source": [
    "Evidently SymPy stores unions of sets as an entirely separate class called Union."
   ]
  },
  {
   "cell_type": "markdown",
   "id": "d9022463",
   "metadata": {},
   "source": [
    "## Yet another example:"
   ]
  },
  {
   "cell_type": "markdown",
   "id": "ad0e8831",
   "metadata": {},
   "source": [
    "One might encounter situations where an equation can only be solved numerically. Let us concoct one such situation and see how SymPy responds:"
   ]
  },
  {
   "cell_type": "code",
   "execution_count": 81,
   "id": "04222c2b",
   "metadata": {},
   "outputs": [
    {
     "data": {
      "text/latex": [
       "$\\displaystyle \\cos{\\left(x \\right)} = x$"
      ],
      "text/plain": [
       "Eq(cos(x), x)"
      ]
     },
     "execution_count": 81,
     "metadata": {},
     "output_type": "execute_result"
    }
   ],
   "source": [
    "unsoleq = sp.Eq(sp.cos(x),x)\n",
    "unsoleq"
   ]
  },
  {
   "cell_type": "markdown",
   "id": "78b45ba0",
   "metadata": {},
   "source": [
    "This is an equation that has no algebraic solutions and can only be solved numerically. Here is what SymPy throws our way when we ask it for an answer:"
   ]
  },
  {
   "cell_type": "code",
   "execution_count": 83,
   "id": "d9877987",
   "metadata": {},
   "outputs": [
    {
     "data": {
      "text/latex": [
       "$\\displaystyle \\left\\{x\\; \\middle|\\; x \\in \\mathbb{C} \\wedge - x + \\cos{\\left(x \\right)} = 0 \\right\\}$"
      ],
      "text/plain": [
       "ConditionSet(x, Eq(-x + cos(x), 0), Complexes)"
      ]
     },
     "execution_count": 83,
     "metadata": {},
     "output_type": "execute_result"
    }
   ],
   "source": [
    "unsolsoln = sp.solveset(unsoleq,x)\n",
    "unsolsoln"
   ]
  },
  {
   "cell_type": "markdown",
   "id": "d1a6dddd",
   "metadata": {},
   "source": [
    "Evidently SymPy returns a \"conditional set\" which can be read as \"a number x such that it belongs to the set of complex numbers and satisfies the equation (our equation)\". In fact, if you were to check what the \"type\" of this set is you would get the following output:"
   ]
  },
  {
   "cell_type": "code",
   "execution_count": 84,
   "id": "06db4436",
   "metadata": {},
   "outputs": [
    {
     "data": {
      "text/plain": [
       "sympy.sets.conditionset.ConditionSet"
      ]
     },
     "execution_count": 84,
     "metadata": {},
     "output_type": "execute_result"
    }
   ],
   "source": [
    "type(unsolsoln)"
   ]
  },
  {
   "cell_type": "markdown",
   "id": "4400a18a",
   "metadata": {},
   "source": [
    "## Solving a system of linear equations:"
   ]
  },
  {
   "cell_type": "markdown",
   "id": "192321fb",
   "metadata": {},
   "source": [
    "Another situation that often arises is one where you have to solve a linear system of $m$ equations in $n$ variables. This situation can be dealt with by defining the equations separately and then passing the equations (as a list) and the variables to be solved for as input to the SymPy linsolve function. Here is an example:"
   ]
  },
  {
   "cell_type": "code",
   "execution_count": 91,
   "id": "174f2f9d",
   "metadata": {},
   "outputs": [
    {
     "data": {
      "text/latex": [
       "$\\displaystyle \\left\\{\\left( - \\frac{z}{5}, \\  - \\frac{3 z}{5}, \\  z\\right)\\right\\}$"
      ],
      "text/plain": [
       "{(-z/5, -3*z/5, z)}"
      ]
     },
     "execution_count": 91,
     "metadata": {},
     "output_type": "execute_result"
    }
   ],
   "source": [
    "x,y,z = sp.symbols(\"x y z\")\n",
    "lin1 = sp.Eq(2*x + y + z , 0)\n",
    "lin2 = sp.Eq(x + 3*y + 2*z , 0)\n",
    "linsol = sp.linsolve([lin1,lin2],x,y,z)\n",
    "linsol"
   ]
  },
  {
   "cell_type": "markdown",
   "id": "c0711479",
   "metadata": {},
   "source": [
    "Where the answers in the tuple are exactly in the sequence in which we passed the variables into the function."
   ]
  },
  {
   "cell_type": "markdown",
   "id": "cbff27e2",
   "metadata": {},
   "source": [
    "## Expanding and simplifying expressions:"
   ]
  },
  {
   "cell_type": "markdown",
   "id": "2805cdb0",
   "metadata": {},
   "source": [
    "We've already exapnded and factored polynomials using the SymPy expand and factor methods/functions. It turns out that the expand method doesn't just work on polynomials but can be used to simplify a wide range of expressions as much as possible. Say you have an exponential with terms being added in the argument, then:"
   ]
  },
  {
   "cell_type": "code",
   "execution_count": 93,
   "id": "c7495c0d",
   "metadata": {},
   "outputs": [
    {
     "data": {
      "text/latex": [
       "$\\displaystyle e^{x + y}$"
      ],
      "text/plain": [
       "exp(x + y)"
      ]
     },
     "execution_count": 93,
     "metadata": {},
     "output_type": "execute_result"
    }
   ],
   "source": [
    "expo = sp.exp(x+y)\n",
    "expo"
   ]
  },
  {
   "cell_type": "markdown",
   "id": "48796bcc",
   "metadata": {},
   "source": [
    "Then you can simplify this expression by using the expand method in the usual way:"
   ]
  },
  {
   "cell_type": "code",
   "execution_count": 94,
   "id": "5da01d58",
   "metadata": {},
   "outputs": [
    {
     "data": {
      "text/latex": [
       "$\\displaystyle e^{x} e^{y}$"
      ],
      "text/plain": [
       "exp(x)*exp(y)"
      ]
     },
     "execution_count": 94,
     "metadata": {},
     "output_type": "execute_result"
    }
   ],
   "source": [
    "sp.expand(expo)"
   ]
  },
  {
   "cell_type": "markdown",
   "id": "4299fc90",
   "metadata": {},
   "source": [
    "As another example, consider a trigonometric expression such as the one given below:"
   ]
  },
  {
   "cell_type": "code",
   "execution_count": 100,
   "id": "82649ebc",
   "metadata": {},
   "outputs": [],
   "source": [
    "trigo = (sp.sin(x) + sp.cos(x))**2 - sp.cos(x)**2"
   ]
  },
  {
   "cell_type": "markdown",
   "id": "98254fbd",
   "metadata": {},
   "source": [
    "You can expand this using the same expand expression as follows:"
   ]
  },
  {
   "cell_type": "code",
   "execution_count": 101,
   "id": "1c9add7d",
   "metadata": {},
   "outputs": [
    {
     "data": {
      "text/latex": [
       "$\\displaystyle \\sin^{2}{\\left(x \\right)} + 2 \\sin{\\left(x \\right)} \\cos{\\left(x \\right)}$"
      ],
      "text/plain": [
       "sin(x)**2 + 2*sin(x)*cos(x)"
      ]
     },
     "execution_count": 101,
     "metadata": {},
     "output_type": "execute_result"
    }
   ],
   "source": [
    "trigo.expand()"
   ]
  },
  {
   "cell_type": "markdown",
   "id": "790c9b84",
   "metadata": {},
   "source": [
    "As you can see SymPy opened up the brackets and performed the necessary cancellations."
   ]
  },
  {
   "cell_type": "markdown",
   "id": "7469b361",
   "metadata": {},
   "source": [
    "## Expanding only parts of terms:"
   ]
  },
  {
   "cell_type": "markdown",
   "id": "aa246bfb",
   "metadata": {},
   "source": [
    "Situations might arise where one only wants to expand a part of an expression and nothing else. SymPy allows us to do this, consider the following concocted example:"
   ]
  },
  {
   "cell_type": "code",
   "execution_count": 104,
   "id": "d0188eb4",
   "metadata": {},
   "outputs": [
    {
     "data": {
      "text/latex": [
       "$\\displaystyle \\left(x + \\cos{\\left(x \\right)}\\right)^{2} + e^{x + y} - \\cos^{2}{\\left(x \\right)}$"
      ],
      "text/plain": [
       "(x + cos(x))**2 + exp(x + y) - cos(x)**2"
      ]
     },
     "execution_count": 104,
     "metadata": {},
     "output_type": "execute_result"
    }
   ],
   "source": [
    "big_exp = (x + sp.cos(x))**2 - sp.cos(x)**2 + sp.exp(x+y)\n",
    "big_exp"
   ]
  },
  {
   "cell_type": "markdown",
   "id": "6c2837fd",
   "metadata": {},
   "source": [
    "Lets imagine a scenario where we want the $e^{x+y}$ term to remain untouched. We can pass this condition as an argument to the sp.expand() function as follows:"
   ]
  },
  {
   "cell_type": "code",
   "execution_count": 106,
   "id": "933e1e45",
   "metadata": {},
   "outputs": [
    {
     "data": {
      "text/latex": [
       "$\\displaystyle x^{2} + 2 x \\cos{\\left(x \\right)} + e^{x + y}$"
      ],
      "text/plain": [
       "x**2 + 2*x*cos(x) + exp(x + y)"
      ]
     },
     "execution_count": 106,
     "metadata": {},
     "output_type": "execute_result"
    }
   ],
   "source": [
    "big_exp.expand(power_exp = False)"
   ]
  },
  {
   "cell_type": "markdown",
   "id": "84e0dee2",
   "metadata": {},
   "source": [
    "Notice that if we hadn't passed the power_exp = False argument into the method SymPy would have expanded $e^{x+y}$ into $e^xe^y$. There are many such arguments that can be passed into the expand method that you can look up in the documentation."
   ]
  },
  {
   "cell_type": "markdown",
   "id": "758fc8e2",
   "metadata": {},
   "source": [
    "## Simplifying rational functions:"
   ]
  },
  {
   "cell_type": "markdown",
   "id": "128b093f",
   "metadata": {},
   "source": [
    "There are two SymPy functions/method specifically catered towards simplifying fractions of polynomials. The first one of these is the cancel() method. The cancel method simply cancels all of the common factors between the numerator and the denominator. As an example consider the fraction:"
   ]
  },
  {
   "cell_type": "code",
   "execution_count": 113,
   "id": "da089ad7",
   "metadata": {},
   "outputs": [
    {
     "data": {
      "text/latex": [
       "$\\displaystyle \\frac{x^{3} + 10 x^{2} + 31 x + 30}{x^{2} + 12 x + 35}$"
      ],
      "text/plain": [
       "(x**3 + 10*x**2 + 31*x + 30)/(x**2 + 12*x + 35)"
      ]
     },
     "execution_count": 113,
     "metadata": {},
     "output_type": "execute_result"
    }
   ],
   "source": [
    "num = x**3 + 10*x**2 + 31*x + 30\n",
    "den = x**2 + 12*x + 35\n",
    "fract = num/den\n",
    "fract"
   ]
  },
  {
   "cell_type": "markdown",
   "id": "98b62bd0",
   "metadata": {},
   "source": [
    "Then the fraction can be simplified using the cancel method as follows:"
   ]
  },
  {
   "cell_type": "code",
   "execution_count": 114,
   "id": "ab460a4b",
   "metadata": {},
   "outputs": [
    {
     "data": {
      "text/latex": [
       "$\\displaystyle \\frac{x^{2} + 5 x + 6}{x + 7}$"
      ],
      "text/plain": [
       "(x**2 + 5*x + 6)/(x + 7)"
      ]
     },
     "execution_count": 114,
     "metadata": {},
     "output_type": "execute_result"
    }
   ],
   "source": [
    "fract.cancel()"
   ]
  },
  {
   "cell_type": "markdown",
   "id": "61a61030",
   "metadata": {},
   "source": [
    "Evidently the numerator and the denominator had one common factor. Another situation is one where you might need the fraction in its \"separated\" form. This is especially useful when one wants to make integrating the expression easier. This form can be achieved by the \"apart\" method as follows:"
   ]
  },
  {
   "cell_type": "code",
   "execution_count": 115,
   "id": "12229928",
   "metadata": {
    "scrolled": true
   },
   "outputs": [
    {
     "data": {
      "text/latex": [
       "$\\displaystyle x - 2 + \\frac{20}{x + 7}$"
      ],
      "text/plain": [
       "x - 2 + 20/(x + 7)"
      ]
     },
     "execution_count": 115,
     "metadata": {},
     "output_type": "execute_result"
    }
   ],
   "source": [
    "fract.apart()"
   ]
  },
  {
   "cell_type": "markdown",
   "id": "504eb42c",
   "metadata": {},
   "source": [
    "## One simplify to rule them all!"
   ]
  },
  {
   "cell_type": "markdown",
   "id": "5c655200",
   "metadata": {},
   "source": [
    "The final simplification method/function that we will talk about is the general sp.simplify() function. Being the most general simplify function it is ofcourse also the least \"specific\" in some sense, in that you leave it upto the library to decide what it thinks the \"most simplified\" form of an expression is. Needless to say, this is also the most versatile tool out of the ones we have discussed and will generally be your first weapon of choice (as long as there isn't a specific form you want the function to end up in). Consider a very arbitrary \"unsimplified/unexpanded\" expression:"
   ]
  },
  {
   "cell_type": "code",
   "execution_count": 126,
   "id": "5cd6c066",
   "metadata": {},
   "outputs": [
    {
     "data": {
      "text/latex": [
       "$\\displaystyle \\left(\\sin{\\left(x \\right)} + \\cos{\\left(x \\right)}\\right)^{2} - e^{x} + e^{x + y} - \\cos{\\left(x \\right)}$"
      ],
      "text/plain": [
       "(sin(x) + cos(x))**2 - exp(x) + exp(x + y) - cos(x)"
      ]
     },
     "execution_count": 126,
     "metadata": {},
     "output_type": "execute_result"
    }
   ],
   "source": [
    "bigexpr = (sp.sin(x)+ sp.cos(x))**2 - sp.cos(x) - sp.exp(x) + sp.exp(x+y)\n",
    "bigexpr"
   ]
  },
  {
   "cell_type": "markdown",
   "id": "6c07fa26",
   "metadata": {},
   "source": [
    "If we use the simplify() method on this we get:"
   ]
  },
  {
   "cell_type": "code",
   "execution_count": 127,
   "id": "9bbbd866",
   "metadata": {},
   "outputs": [
    {
     "data": {
      "text/latex": [
       "$\\displaystyle - e^{x} + e^{x + y} + \\sin{\\left(2 x \\right)} - \\cos{\\left(x \\right)} + 1$"
      ],
      "text/plain": [
       "-exp(x) + exp(x + y) + sin(2*x) - cos(x) + 1"
      ]
     },
     "execution_count": 127,
     "metadata": {},
     "output_type": "execute_result"
    }
   ],
   "source": [
    "bigexpr.simplify()"
   ]
  },
  {
   "cell_type": "markdown",
   "id": "3ca10ead",
   "metadata": {},
   "source": [
    "Apparently SymPy expands the expression in the brackets using a trigonometric identity while doing nothing to the remaining terms. Ofcourse as mentioned earlier the simplify() method suffers from the problem that it will only simplify the expression as much as SymPy \"deems necessary\" which might not always be enough for your purposes. Also, being general it is pretty slow in comparison to other \"focused\" methods."
   ]
  }
 ],
 "metadata": {
  "kernelspec": {
   "display_name": "Python 3 (ipykernel)",
   "language": "python",
   "name": "python3"
  },
  "language_info": {
   "codemirror_mode": {
    "name": "ipython",
    "version": 3
   },
   "file_extension": ".py",
   "mimetype": "text/x-python",
   "name": "python",
   "nbconvert_exporter": "python",
   "pygments_lexer": "ipython3",
   "version": "3.9.13"
  }
 },
 "nbformat": 4,
 "nbformat_minor": 5
}
